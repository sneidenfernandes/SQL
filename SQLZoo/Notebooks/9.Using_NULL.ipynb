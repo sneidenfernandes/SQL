{
 "cells": [
  {
   "cell_type": "markdown",
   "id": "435217a3-ca93-4a1e-a233-52ed93fee56c",
   "metadata": {},
   "source": [
    "## Using Null"
   ]
  },
  {
   "cell_type": "markdown",
   "id": "c1719d87-4915-4be3-8a5d-2462e9bddd0b",
   "metadata": {},
   "source": [
    "Data Summary\n",
    "\n",
    "Table: **teacher**\n",
    "\n",
    "**id**  : serves as a unique identifier for each teacher <br>\n",
    "**dept** : represents the department to which the teacher is affliated <br>\n",
    "**name** : holds the name of the teacher <br>\n",
    "**phone** : stores the phone number of the teacher <br>\n",
    "**mobile** : stores the mobile number of the teacher <br>\n",
    "\n",
    "Table: **dept**\n",
    "\n",
    "**id** :serves as a unique identifier for id <br>\n",
    "**name** : holds the name of the department <br>"
   ]
  },
  {
   "cell_type": "code",
   "execution_count": 19,
   "id": "ef9a46ae-58fb-4549-83e5-78806f490b4f",
   "metadata": {},
   "outputs": [],
   "source": [
    "from query import query"
   ]
  },
  {
   "cell_type": "markdown",
   "id": "3b4b9afc-09f6-4884-8e4e-53f764919366",
   "metadata": {},
   "source": [
    "#### NULL, INNERJOIN, LEFTJOIN, RIGHTJOIN"
   ]
  },
  {
   "cell_type": "markdown",
   "id": "f94e488d-c05c-425e-9d5e-db02367ebe74",
   "metadata": {},
   "source": [
    "#### **1.**\n",
    "\n",
    "List the teachers who have NULL for their department. "
   ]
  },
  {
   "cell_type": "code",
   "execution_count": 3,
   "id": "bded7f84-9826-43c6-a20e-1f826a3d5135",
   "metadata": {},
   "outputs": [
    {
     "data": {
      "text/html": [
       "<div>\n",
       "<style scoped>\n",
       "    .dataframe tbody tr th:only-of-type {\n",
       "        vertical-align: middle;\n",
       "    }\n",
       "\n",
       "    .dataframe tbody tr th {\n",
       "        vertical-align: top;\n",
       "    }\n",
       "\n",
       "    .dataframe thead th {\n",
       "        text-align: right;\n",
       "    }\n",
       "</style>\n",
       "<table border=\"1\" class=\"dataframe\">\n",
       "  <thead>\n",
       "    <tr style=\"text-align: right;\">\n",
       "      <th></th>\n",
       "      <th>name</th>\n",
       "    </tr>\n",
       "  </thead>\n",
       "  <tbody>\n",
       "    <tr>\n",
       "      <th>0</th>\n",
       "      <td>Spiregrain</td>\n",
       "    </tr>\n",
       "    <tr>\n",
       "      <th>1</th>\n",
       "      <td>Deadyawn</td>\n",
       "    </tr>\n",
       "  </tbody>\n",
       "</table>\n",
       "</div>"
      ],
      "text/plain": [
       "         name\n",
       "0  Spiregrain\n",
       "1    Deadyawn"
      ]
     },
     "execution_count": 3,
     "metadata": {},
     "output_type": "execute_result"
    }
   ],
   "source": [
    "query(\"SELECT name FROM teacher WHERE dept IS NULL;\")"
   ]
  },
  {
   "cell_type": "markdown",
   "id": "b8c50dd5-69e6-4c28-8147-861010b2b088",
   "metadata": {},
   "source": [
    "#### **2.**\n",
    "\n",
    "Note the INNER JOIN misses the teachers with no department and the departments with no teacher. "
   ]
  },
  {
   "cell_type": "code",
   "execution_count": 5,
   "id": "c99aea93-60b1-4cc2-a3d0-837cb7d4c630",
   "metadata": {},
   "outputs": [
    {
     "data": {
      "text/html": [
       "<div>\n",
       "<style scoped>\n",
       "    .dataframe tbody tr th:only-of-type {\n",
       "        vertical-align: middle;\n",
       "    }\n",
       "\n",
       "    .dataframe tbody tr th {\n",
       "        vertical-align: top;\n",
       "    }\n",
       "\n",
       "    .dataframe thead th {\n",
       "        text-align: right;\n",
       "    }\n",
       "</style>\n",
       "<table border=\"1\" class=\"dataframe\">\n",
       "  <thead>\n",
       "    <tr style=\"text-align: right;\">\n",
       "      <th></th>\n",
       "      <th>name</th>\n",
       "      <th>name</th>\n",
       "    </tr>\n",
       "  </thead>\n",
       "  <tbody>\n",
       "    <tr>\n",
       "      <th>0</th>\n",
       "      <td>Shrivell</td>\n",
       "      <td>Computing</td>\n",
       "    </tr>\n",
       "    <tr>\n",
       "      <th>1</th>\n",
       "      <td>Throd</td>\n",
       "      <td>Computing</td>\n",
       "    </tr>\n",
       "    <tr>\n",
       "      <th>2</th>\n",
       "      <td>Splint</td>\n",
       "      <td>Computing</td>\n",
       "    </tr>\n",
       "    <tr>\n",
       "      <th>3</th>\n",
       "      <td>Cutflower</td>\n",
       "      <td>Design</td>\n",
       "    </tr>\n",
       "  </tbody>\n",
       "</table>\n",
       "</div>"
      ],
      "text/plain": [
       "        name       name\n",
       "0   Shrivell  Computing\n",
       "1      Throd  Computing\n",
       "2     Splint  Computing\n",
       "3  Cutflower     Design"
      ]
     },
     "execution_count": 5,
     "metadata": {},
     "output_type": "execute_result"
    }
   ],
   "source": [
    "query(\"\"\"\n",
    "    SELECT teacher.name, dept.name\n",
    "    FROM teacher INNER JOIN dept\n",
    "    ON (teacher.dept=dept.id)\n",
    "\n",
    "\"\"\")"
   ]
  },
  {
   "cell_type": "markdown",
   "id": "a1b27f80-f29e-46fe-84fb-2a633a5db916",
   "metadata": {},
   "source": [
    "#### **3.**\n",
    "\n",
    "Use a different JOIN so that all teachers are listed. "
   ]
  },
  {
   "cell_type": "code",
   "execution_count": 6,
   "id": "e3ff8414-ce53-44b8-8cf9-cb0b9de0e7f0",
   "metadata": {},
   "outputs": [
    {
     "data": {
      "text/html": [
       "<div>\n",
       "<style scoped>\n",
       "    .dataframe tbody tr th:only-of-type {\n",
       "        vertical-align: middle;\n",
       "    }\n",
       "\n",
       "    .dataframe tbody tr th {\n",
       "        vertical-align: top;\n",
       "    }\n",
       "\n",
       "    .dataframe thead th {\n",
       "        text-align: right;\n",
       "    }\n",
       "</style>\n",
       "<table border=\"1\" class=\"dataframe\">\n",
       "  <thead>\n",
       "    <tr style=\"text-align: right;\">\n",
       "      <th></th>\n",
       "      <th>name</th>\n",
       "      <th>name</th>\n",
       "    </tr>\n",
       "  </thead>\n",
       "  <tbody>\n",
       "    <tr>\n",
       "      <th>0</th>\n",
       "      <td>Shrivell</td>\n",
       "      <td>Computing</td>\n",
       "    </tr>\n",
       "    <tr>\n",
       "      <th>1</th>\n",
       "      <td>Throd</td>\n",
       "      <td>Computing</td>\n",
       "    </tr>\n",
       "    <tr>\n",
       "      <th>2</th>\n",
       "      <td>Splint</td>\n",
       "      <td>Computing</td>\n",
       "    </tr>\n",
       "    <tr>\n",
       "      <th>3</th>\n",
       "      <td>Spiregrain</td>\n",
       "      <td>None</td>\n",
       "    </tr>\n",
       "    <tr>\n",
       "      <th>4</th>\n",
       "      <td>Cutflower</td>\n",
       "      <td>Design</td>\n",
       "    </tr>\n",
       "    <tr>\n",
       "      <th>5</th>\n",
       "      <td>Deadyawn</td>\n",
       "      <td>None</td>\n",
       "    </tr>\n",
       "  </tbody>\n",
       "</table>\n",
       "</div>"
      ],
      "text/plain": [
       "         name       name\n",
       "0    Shrivell  Computing\n",
       "1       Throd  Computing\n",
       "2      Splint  Computing\n",
       "3  Spiregrain       None\n",
       "4   Cutflower     Design\n",
       "5    Deadyawn       None"
      ]
     },
     "execution_count": 6,
     "metadata": {},
     "output_type": "execute_result"
    }
   ],
   "source": [
    "query(\"Select teacher.name, dept.name from teacher left join dept on (teacher.dept=dept.id);\")"
   ]
  },
  {
   "cell_type": "markdown",
   "id": "2e29be2b-0b31-4100-9106-8d67aa93caf9",
   "metadata": {},
   "source": [
    "#### **4.**\n",
    "\n",
    "Use a different JOIN so that all departments are listed."
   ]
  },
  {
   "cell_type": "code",
   "execution_count": 7,
   "id": "f7124b6c-c7df-45d6-a82a-689a86be9dc8",
   "metadata": {},
   "outputs": [
    {
     "data": {
      "text/html": [
       "<div>\n",
       "<style scoped>\n",
       "    .dataframe tbody tr th:only-of-type {\n",
       "        vertical-align: middle;\n",
       "    }\n",
       "\n",
       "    .dataframe tbody tr th {\n",
       "        vertical-align: top;\n",
       "    }\n",
       "\n",
       "    .dataframe thead th {\n",
       "        text-align: right;\n",
       "    }\n",
       "</style>\n",
       "<table border=\"1\" class=\"dataframe\">\n",
       "  <thead>\n",
       "    <tr style=\"text-align: right;\">\n",
       "      <th></th>\n",
       "      <th>name</th>\n",
       "      <th>name</th>\n",
       "    </tr>\n",
       "  </thead>\n",
       "  <tbody>\n",
       "    <tr>\n",
       "      <th>0</th>\n",
       "      <td>Shrivell</td>\n",
       "      <td>Computing</td>\n",
       "    </tr>\n",
       "    <tr>\n",
       "      <th>1</th>\n",
       "      <td>Throd</td>\n",
       "      <td>Computing</td>\n",
       "    </tr>\n",
       "    <tr>\n",
       "      <th>2</th>\n",
       "      <td>Splint</td>\n",
       "      <td>Computing</td>\n",
       "    </tr>\n",
       "    <tr>\n",
       "      <th>3</th>\n",
       "      <td>Cutflower</td>\n",
       "      <td>Design</td>\n",
       "    </tr>\n",
       "    <tr>\n",
       "      <th>4</th>\n",
       "      <td>None</td>\n",
       "      <td>Engineering</td>\n",
       "    </tr>\n",
       "  </tbody>\n",
       "</table>\n",
       "</div>"
      ],
      "text/plain": [
       "        name         name\n",
       "0   Shrivell    Computing\n",
       "1      Throd    Computing\n",
       "2     Splint    Computing\n",
       "3  Cutflower       Design\n",
       "4       None  Engineering"
      ]
     },
     "execution_count": 7,
     "metadata": {},
     "output_type": "execute_result"
    }
   ],
   "source": [
    "query(\"Select teacher.name, dept.name from teacher right join dept on (teacher.dept=dept.id)\")"
   ]
  },
  {
   "cell_type": "markdown",
   "id": "a6e696cd-51ba-4f1a-ac64-28a005f9ec43",
   "metadata": {},
   "source": [
    "#### **5.**\n",
    "\n",
    "Use COALESCE to print the mobile number. Use the number '07986 444 2266' if there is no number given. Show teacher name and mobile number or '07986 444 2266'"
   ]
  },
  {
   "cell_type": "code",
   "execution_count": 8,
   "id": "fdca2cf2-776f-48c2-b2f7-51b1f15dc25e",
   "metadata": {},
   "outputs": [
    {
     "data": {
      "text/html": [
       "<div>\n",
       "<style scoped>\n",
       "    .dataframe tbody tr th:only-of-type {\n",
       "        vertical-align: middle;\n",
       "    }\n",
       "\n",
       "    .dataframe tbody tr th {\n",
       "        vertical-align: top;\n",
       "    }\n",
       "\n",
       "    .dataframe thead th {\n",
       "        text-align: right;\n",
       "    }\n",
       "</style>\n",
       "<table border=\"1\" class=\"dataframe\">\n",
       "  <thead>\n",
       "    <tr style=\"text-align: right;\">\n",
       "      <th></th>\n",
       "      <th>name</th>\n",
       "      <th>COALESCE(mobile, '07986 444 2266')</th>\n",
       "    </tr>\n",
       "  </thead>\n",
       "  <tbody>\n",
       "    <tr>\n",
       "      <th>0</th>\n",
       "      <td>Shrivell</td>\n",
       "      <td>07986 555 1234</td>\n",
       "    </tr>\n",
       "    <tr>\n",
       "      <th>1</th>\n",
       "      <td>Throd</td>\n",
       "      <td>07122 555 1920</td>\n",
       "    </tr>\n",
       "    <tr>\n",
       "      <th>2</th>\n",
       "      <td>Splint</td>\n",
       "      <td>07986 444 2266</td>\n",
       "    </tr>\n",
       "    <tr>\n",
       "      <th>3</th>\n",
       "      <td>Spiregrain</td>\n",
       "      <td>07986 444 2266</td>\n",
       "    </tr>\n",
       "    <tr>\n",
       "      <th>4</th>\n",
       "      <td>Cutflower</td>\n",
       "      <td>07996 555 6574</td>\n",
       "    </tr>\n",
       "    <tr>\n",
       "      <th>5</th>\n",
       "      <td>Deadyawn</td>\n",
       "      <td>07986 444 2266</td>\n",
       "    </tr>\n",
       "  </tbody>\n",
       "</table>\n",
       "</div>"
      ],
      "text/plain": [
       "         name COALESCE(mobile, '07986 444 2266')\n",
       "0    Shrivell                     07986 555 1234\n",
       "1       Throd                     07122 555 1920\n",
       "2      Splint                     07986 444 2266\n",
       "3  Spiregrain                     07986 444 2266\n",
       "4   Cutflower                     07996 555 6574\n",
       "5    Deadyawn                     07986 444 2266"
      ]
     },
     "execution_count": 8,
     "metadata": {},
     "output_type": "execute_result"
    }
   ],
   "source": [
    "query(\"SELECT name, COALESCE(mobile, '07986 444 2266') FROM teacher;\")"
   ]
  },
  {
   "cell_type": "markdown",
   "id": "19e81d31-e9ae-40dd-b49c-cc1388f9cb8f",
   "metadata": {},
   "source": [
    "#### **6.**\n",
    "\n",
    "Use the COALESCE function and a LEFT JOIN to print the teacher name and department name. Use the string 'None' where there is no department. "
   ]
  },
  {
   "cell_type": "code",
   "execution_count": 9,
   "id": "7a85db96-7fa2-4c2e-b366-33700c34736a",
   "metadata": {},
   "outputs": [
    {
     "data": {
      "text/html": [
       "<div>\n",
       "<style scoped>\n",
       "    .dataframe tbody tr th:only-of-type {\n",
       "        vertical-align: middle;\n",
       "    }\n",
       "\n",
       "    .dataframe tbody tr th {\n",
       "        vertical-align: top;\n",
       "    }\n",
       "\n",
       "    .dataframe thead th {\n",
       "        text-align: right;\n",
       "    }\n",
       "</style>\n",
       "<table border=\"1\" class=\"dataframe\">\n",
       "  <thead>\n",
       "    <tr style=\"text-align: right;\">\n",
       "      <th></th>\n",
       "      <th>name</th>\n",
       "      <th>coalesce(dept.name, 'None')</th>\n",
       "    </tr>\n",
       "  </thead>\n",
       "  <tbody>\n",
       "    <tr>\n",
       "      <th>0</th>\n",
       "      <td>Shrivell</td>\n",
       "      <td>Computing</td>\n",
       "    </tr>\n",
       "    <tr>\n",
       "      <th>1</th>\n",
       "      <td>Throd</td>\n",
       "      <td>Computing</td>\n",
       "    </tr>\n",
       "    <tr>\n",
       "      <th>2</th>\n",
       "      <td>Splint</td>\n",
       "      <td>Computing</td>\n",
       "    </tr>\n",
       "    <tr>\n",
       "      <th>3</th>\n",
       "      <td>Spiregrain</td>\n",
       "      <td>None</td>\n",
       "    </tr>\n",
       "    <tr>\n",
       "      <th>4</th>\n",
       "      <td>Cutflower</td>\n",
       "      <td>Design</td>\n",
       "    </tr>\n",
       "    <tr>\n",
       "      <th>5</th>\n",
       "      <td>Deadyawn</td>\n",
       "      <td>None</td>\n",
       "    </tr>\n",
       "  </tbody>\n",
       "</table>\n",
       "</div>"
      ],
      "text/plain": [
       "         name coalesce(dept.name, 'None')\n",
       "0    Shrivell                   Computing\n",
       "1       Throd                   Computing\n",
       "2      Splint                   Computing\n",
       "3  Spiregrain                        None\n",
       "4   Cutflower                      Design\n",
       "5    Deadyawn                        None"
      ]
     },
     "execution_count": 9,
     "metadata": {},
     "output_type": "execute_result"
    }
   ],
   "source": [
    "query(\"\"\"SELECT teacher.name, coalesce(dept.name, 'None') \n",
    "        FROM teacher LEFT JOIN dept \n",
    "        ON (teacher.dept=dept.id)\"\"\")"
   ]
  },
  {
   "cell_type": "markdown",
   "id": "2ce8a0df-9566-40f2-9c7f-f877ed51b9e0",
   "metadata": {},
   "source": [
    "#### **7.**\n",
    "\n",
    "Use COUNT to show the number of teachers and the number of mobile phones. "
   ]
  },
  {
   "cell_type": "code",
   "execution_count": 11,
   "id": "bf1c934b-fa6c-4535-b064-ee29eee9a205",
   "metadata": {},
   "outputs": [
    {
     "data": {
      "text/html": [
       "<div>\n",
       "<style scoped>\n",
       "    .dataframe tbody tr th:only-of-type {\n",
       "        vertical-align: middle;\n",
       "    }\n",
       "\n",
       "    .dataframe tbody tr th {\n",
       "        vertical-align: top;\n",
       "    }\n",
       "\n",
       "    .dataframe thead th {\n",
       "        text-align: right;\n",
       "    }\n",
       "</style>\n",
       "<table border=\"1\" class=\"dataframe\">\n",
       "  <thead>\n",
       "    <tr style=\"text-align: right;\">\n",
       "      <th></th>\n",
       "      <th>nameCount</th>\n",
       "      <th>mobileCount</th>\n",
       "    </tr>\n",
       "  </thead>\n",
       "  <tbody>\n",
       "    <tr>\n",
       "      <th>0</th>\n",
       "      <td>6</td>\n",
       "      <td>3</td>\n",
       "    </tr>\n",
       "  </tbody>\n",
       "</table>\n",
       "</div>"
      ],
      "text/plain": [
       "   nameCount  mobileCount\n",
       "0          6            3"
      ]
     },
     "execution_count": 11,
     "metadata": {},
     "output_type": "execute_result"
    }
   ],
   "source": [
    "query(\"SELECT count(name) nameCount, count(mobile) mobileCount from teacher;\")"
   ]
  },
  {
   "cell_type": "markdown",
   "id": "42337833-05b8-4859-845d-f8f3d9c3d9dc",
   "metadata": {},
   "source": [
    "#### **8.**\n",
    "\n",
    "Use COUNT and GROUP BY dept.name to show each department and the number of staff. Use a RIGHT JOIN to ensure that the Engineering department is listed. "
   ]
  },
  {
   "cell_type": "code",
   "execution_count": 13,
   "id": "80fef545-ec07-4fef-a6e6-740f0f267d16",
   "metadata": {},
   "outputs": [
    {
     "data": {
      "text/html": [
       "<div>\n",
       "<style scoped>\n",
       "    .dataframe tbody tr th:only-of-type {\n",
       "        vertical-align: middle;\n",
       "    }\n",
       "\n",
       "    .dataframe tbody tr th {\n",
       "        vertical-align: top;\n",
       "    }\n",
       "\n",
       "    .dataframe thead th {\n",
       "        text-align: right;\n",
       "    }\n",
       "</style>\n",
       "<table border=\"1\" class=\"dataframe\">\n",
       "  <thead>\n",
       "    <tr style=\"text-align: right;\">\n",
       "      <th></th>\n",
       "      <th>name</th>\n",
       "      <th>teacherCount</th>\n",
       "    </tr>\n",
       "  </thead>\n",
       "  <tbody>\n",
       "    <tr>\n",
       "      <th>0</th>\n",
       "      <td>Computing</td>\n",
       "      <td>3</td>\n",
       "    </tr>\n",
       "    <tr>\n",
       "      <th>1</th>\n",
       "      <td>Design</td>\n",
       "      <td>1</td>\n",
       "    </tr>\n",
       "    <tr>\n",
       "      <th>2</th>\n",
       "      <td>Engineering</td>\n",
       "      <td>0</td>\n",
       "    </tr>\n",
       "  </tbody>\n",
       "</table>\n",
       "</div>"
      ],
      "text/plain": [
       "          name  teacherCount\n",
       "0    Computing             3\n",
       "1       Design             1\n",
       "2  Engineering             0"
      ]
     },
     "execution_count": 13,
     "metadata": {},
     "output_type": "execute_result"
    }
   ],
   "source": [
    "query(\"\"\"\n",
    "        SELECT dept.name, COUNT(teacher.name) teacherCount FROM teacher RIGHT JOIN dept ON (teacher.dept=dept.id) GROUP BY dept.name;\n",
    "\"\"\")"
   ]
  },
  {
   "cell_type": "markdown",
   "id": "1397e718-b8d1-468e-8086-2a3112a88bbb",
   "metadata": {},
   "source": [
    "#### **9.**\n",
    "\n",
    "Use CASE to show the name of each teacher followed by 'Sci' if the teacher is in dept 1 or 2 and 'Art' otherwise. "
   ]
  },
  {
   "cell_type": "code",
   "execution_count": 16,
   "id": "32fabdd7-9508-48ae-bc81-8a4d61289d4b",
   "metadata": {},
   "outputs": [
    {
     "data": {
      "text/html": [
       "<div>\n",
       "<style scoped>\n",
       "    .dataframe tbody tr th:only-of-type {\n",
       "        vertical-align: middle;\n",
       "    }\n",
       "\n",
       "    .dataframe tbody tr th {\n",
       "        vertical-align: top;\n",
       "    }\n",
       "\n",
       "    .dataframe thead th {\n",
       "        text-align: right;\n",
       "    }\n",
       "</style>\n",
       "<table border=\"1\" class=\"dataframe\">\n",
       "  <thead>\n",
       "    <tr style=\"text-align: right;\">\n",
       "      <th></th>\n",
       "      <th>name</th>\n",
       "      <th>Art or Sci</th>\n",
       "    </tr>\n",
       "  </thead>\n",
       "  <tbody>\n",
       "    <tr>\n",
       "      <th>0</th>\n",
       "      <td>Shrivell</td>\n",
       "      <td>Sci</td>\n",
       "    </tr>\n",
       "    <tr>\n",
       "      <th>1</th>\n",
       "      <td>Throd</td>\n",
       "      <td>Sci</td>\n",
       "    </tr>\n",
       "    <tr>\n",
       "      <th>2</th>\n",
       "      <td>Splint</td>\n",
       "      <td>Sci</td>\n",
       "    </tr>\n",
       "    <tr>\n",
       "      <th>3</th>\n",
       "      <td>Spiregrain</td>\n",
       "      <td>Art</td>\n",
       "    </tr>\n",
       "    <tr>\n",
       "      <th>4</th>\n",
       "      <td>Cutflower</td>\n",
       "      <td>Sci</td>\n",
       "    </tr>\n",
       "    <tr>\n",
       "      <th>5</th>\n",
       "      <td>Deadyawn</td>\n",
       "      <td>Art</td>\n",
       "    </tr>\n",
       "  </tbody>\n",
       "</table>\n",
       "</div>"
      ],
      "text/plain": [
       "         name Art or Sci\n",
       "0    Shrivell        Sci\n",
       "1       Throd        Sci\n",
       "2      Splint        Sci\n",
       "3  Spiregrain        Art\n",
       "4   Cutflower        Sci\n",
       "5    Deadyawn        Art"
      ]
     },
     "execution_count": 16,
     "metadata": {},
     "output_type": "execute_result"
    }
   ],
   "source": [
    "query(\"\"\"\n",
    "    SELECT name,\n",
    "   CASE\n",
    "      WHEN dept IN (1,2) THEN 'Sci'\n",
    "      ELSE 'Art'\n",
    "   END 'Art or Sci'\n",
    "FROM teacher;\n",
    "\n",
    "\"\"\")"
   ]
  },
  {
   "cell_type": "markdown",
   "id": "feda73c1-c4c0-40f9-8ec9-ad70a22d5dd2",
   "metadata": {},
   "source": [
    "#### **10.**\n",
    "\n",
    "Use CASE to show the name of each teacher followed by 'Sci' if the teacher is in dept 1 or 2, show 'Art' if the teacher's dept is 3 and 'None' otherwise. "
   ]
  },
  {
   "cell_type": "code",
   "execution_count": 18,
   "id": "b24c2822-9030-4f5e-8ec0-2cb11c51dc77",
   "metadata": {},
   "outputs": [
    {
     "data": {
      "text/html": [
       "<div>\n",
       "<style scoped>\n",
       "    .dataframe tbody tr th:only-of-type {\n",
       "        vertical-align: middle;\n",
       "    }\n",
       "\n",
       "    .dataframe tbody tr th {\n",
       "        vertical-align: top;\n",
       "    }\n",
       "\n",
       "    .dataframe thead th {\n",
       "        text-align: right;\n",
       "    }\n",
       "</style>\n",
       "<table border=\"1\" class=\"dataframe\">\n",
       "  <thead>\n",
       "    <tr style=\"text-align: right;\">\n",
       "      <th></th>\n",
       "      <th>name</th>\n",
       "      <th>Art/Sci/None</th>\n",
       "    </tr>\n",
       "  </thead>\n",
       "  <tbody>\n",
       "    <tr>\n",
       "      <th>0</th>\n",
       "      <td>Shrivell</td>\n",
       "      <td>Sci</td>\n",
       "    </tr>\n",
       "    <tr>\n",
       "      <th>1</th>\n",
       "      <td>Throd</td>\n",
       "      <td>Sci</td>\n",
       "    </tr>\n",
       "    <tr>\n",
       "      <th>2</th>\n",
       "      <td>Splint</td>\n",
       "      <td>Sci</td>\n",
       "    </tr>\n",
       "    <tr>\n",
       "      <th>3</th>\n",
       "      <td>Spiregrain</td>\n",
       "      <td>None</td>\n",
       "    </tr>\n",
       "    <tr>\n",
       "      <th>4</th>\n",
       "      <td>Cutflower</td>\n",
       "      <td>Sci</td>\n",
       "    </tr>\n",
       "    <tr>\n",
       "      <th>5</th>\n",
       "      <td>Deadyawn</td>\n",
       "      <td>None</td>\n",
       "    </tr>\n",
       "  </tbody>\n",
       "</table>\n",
       "</div>"
      ],
      "text/plain": [
       "         name Art/Sci/None\n",
       "0    Shrivell          Sci\n",
       "1       Throd          Sci\n",
       "2      Splint          Sci\n",
       "3  Spiregrain         None\n",
       "4   Cutflower          Sci\n",
       "5    Deadyawn         None"
      ]
     },
     "execution_count": 18,
     "metadata": {},
     "output_type": "execute_result"
    }
   ],
   "source": [
    "query(\"\"\"\n",
    "        SELECT name,\n",
    "   CASE\n",
    "      WHEN dept IN (1,2) THEN 'Sci'\n",
    "      WHEN dept = 3 THEN 'Art'\n",
    "      ELSE 'None'\n",
    "   END 'Art/Sci/None'\n",
    "FROM teacher;\n",
    "\n",
    "\"\"\")"
   ]
  }
 ],
 "metadata": {
  "kernelspec": {
   "display_name": "Python 3 (ipykernel)",
   "language": "python",
   "name": "python3"
  },
  "language_info": {
   "codemirror_mode": {
    "name": "ipython",
    "version": 3
   },
   "file_extension": ".py",
   "mimetype": "text/x-python",
   "name": "python",
   "nbconvert_exporter": "python",
   "pygments_lexer": "ipython3",
   "version": "3.8.8"
  }
 },
 "nbformat": 4,
 "nbformat_minor": 5
}
